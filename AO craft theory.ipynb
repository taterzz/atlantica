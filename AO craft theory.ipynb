{
 "cells": [
  {
   "cell_type": "code",
   "execution_count": 320,
   "metadata": {},
   "outputs": [],
   "source": [
    "import numpy as np\n",
    "from numpy import isnan\n",
    "import matplotlib.pyplot as plt\n",
    "from collections import defaultdict"
   ]
  },
  {
   "cell_type": "code",
   "execution_count": 520,
   "metadata": {},
   "outputs": [],
   "source": [
    "def probability_guess(batch_size, total_crafts):\n",
    "    \"\"\"\n",
    "        Generates a random number based on crafting probabilities\n",
    "        \n",
    "        'batch_size' = size of the craft, between 1-20\n",
    "        \n",
    "        'total_crafts' = amount of crafts available\n",
    "        \n",
    "        'craft_value' = value of the synth in terms of +3 equips\n",
    "        \n",
    "        'plus_history' = array containing the results of synths\n",
    "    \"\"\"\n",
    "    \n",
    "    # creating arrays to hold the values\n",
    "    plus_history = []\n",
    "    craft_value = []\n",
    "    \n",
    "    # creating the counter based on batch size and total synths possible\n",
    "    # turns the value into an integer since batches cannot be partial\n",
    "    max_synths = int(total_crafts/batch_size)    \n",
    "    \n",
    "    \n",
    "    for m in range(0,max_synths):\n",
    "        # using random values to calculate equipment probabilities\n",
    "        rando = np.random.randint(low=1, high=10000)\n",
    "        if 1 <= rando and rando <= 6000:\n",
    "            equip_plus = 3\n",
    "        elif 6001 <= rando and rando <= 8000:\n",
    "            equip_plus = 4\n",
    "        elif 8001 <= rando and rando <= 9000:\n",
    "            equip_plus = 5\n",
    "        elif 9001 <= rando and rando <= 9500:\n",
    "            equip_plus = 6\n",
    "        elif 9501 <= rando and rando <= 9750:\n",
    "            equip_plus = 7\n",
    "        elif 9751 <= rando and rando <= 9900:\n",
    "            equip_plus = 8\n",
    "        elif 9901 <= rando and rando <= 9975:\n",
    "            equip_plus = 9\n",
    "        elif 9976 <= rando and rando <= 10000:\n",
    "            equip_plus = 10\n",
    "\n",
    "        # uses the equip's plus value to determine it's worth in base +3 gear components\n",
    "        # the higher the synth value, the better the materials are maximized in material costs\n",
    "        synth_value = equip_plus - 3\n",
    "        craft_value.append((2**synth_value) * 3)\n",
    "        plus_history.append(equip_plus)\n",
    "        \n",
    "        \n",
    "    craft_value = np.mean(craft_value)\n",
    "    return craft_value, plus_history"
   ]
  },
  {
   "cell_type": "code",
   "execution_count": 521,
   "metadata": {},
   "outputs": [],
   "source": [
    "def print_results(total_crafts):\n",
    "\n",
    "    \"\"\"\n",
    "        Returns the values of the batch, plus history, and the value\n",
    "        of the result.\n",
    "        \n",
    "        'total_crafts' = amount of total crafts available\n",
    "        \n",
    "        'craft_value' = value of the synth in terms of +3 equips\n",
    "        \n",
    "        'plus_history' = array containing the results of synths\n",
    "        \n",
    "        'total_craft_value' = array containing the total values of each\n",
    "                              batch size\n",
    "    \"\"\"\n",
    "\n",
    "    total_craft_value = []\n",
    "    craft_value = []\n",
    "    plus_history = []\n",
    "    \n",
    "    # runs a loop to check each batch size, from 1 to 20\n",
    "    # stores the results in an array, and prints to the screen\n",
    "    for i in range(1,21):\n",
    "        craft_value, plus_history = probability_guess(i,total_crafts)\n",
    "        total_craft_value.append(craft_value)\n",
    "        \n",
    "    # converts NaN values to 0, due to batch size and max synths\n",
    "    # not being equal\n",
    "    total_craft_value = [0 if np.isnan(x) else x for x in total_craft_value]  \n",
    "    return total_craft_value"
   ]
  },
  {
   "cell_type": "code",
   "execution_count": 524,
   "metadata": {
    "scrolled": true
   },
   "outputs": [],
   "source": [
    "# creates the value of the maximum synths and test simulations\n",
    "total_size = 5\n",
    "tests = 100\n",
    "\n",
    "# creates the total value array based on the batch value's size\n",
    "batch_value = print_results(total_size)\n",
    "\n",
    "# creates a dictionary to hold the lists for each plus value\n",
    "test_lists = defaultdict(list)\n",
    "norm_total_value = []\n",
    "\n",
    "# runs a number of tests of each batch value size\n",
    "for k in range(1,tests):\n",
    "    \n",
    "    total_value = [0] * len(batch_value)\n",
    "\n",
    "    # running the random generator 100 times to find an expectation value\n",
    "    # every value is held in the total value list\n",
    "    # values are averaged against the number of tests\n",
    "    batch_value = print_results(total_size)\n",
    "    total_value = [sum(x) for x in zip(total_value, batch_value)]\n",
    "    test_lists['test_' + str(k)].append(total_value)"
   ]
  },
  {
   "cell_type": "code",
   "execution_count": 558,
   "metadata": {
    "scrolled": true
   },
   "outputs": [],
   "source": [
    "# creating a new set of lists for the batch sizes\n",
    "batch_lists = defaultdict(list)\n",
    "\n",
    "# these sets of loops will create a series of lists containing the batch sizes.\n",
    "# it then takes the values in each batch position from the test samples\n",
    "# and appends them to the batch_lists for the total range of values for that\n",
    "# particular batch size.\n",
    "for counter in range(0,19):\n",
    "    batch_name = 'batch_size_' + str(counter + 1)\n",
    "    batch_lists[batch_name]\n",
    "\n",
    "    for ys in range(1,tests):\n",
    "        test_name = 'test_' + str(ys)\n",
    "        batch_lists[batch_name].append(my_lists[test_name][0][counter])\n",
    "\n",
    "# since all the values are normalized, we should  be able to see now if there is \n",
    "# a trend with batch sizes and total plus value."
   ]
  },
  {
   "cell_type": "code",
   "execution_count": 568,
   "metadata": {},
   "outputs": [
    {
     "data": {
      "image/png": "[encoded data removed]",
      "text/plain": [
       "<Figure size 432x288 with 1 Axes>"
      ]
     },
     "metadata": {
      "needs_background": "light"
     },
     "output_type": "display_data"
    }
   ],
   "source": [
    "# plotting the results to see if trends arise\n",
    "plt.scatter(1, np.mean(batch_lists['batch_size_1']), label='Size 1')\n",
    "plt.scatter(2, np.mean(batch_lists['batch_size_2']), label='Size 2')\n",
    "plt.scatter(3, np.mean(batch_lists['batch_size_3']), label='Size 3')\n",
    "plt.scatter(4, np.mean(batch_lists['batch_size_4']), label='Size 4')\n",
    "plt.scatter(5, np.mean(batch_lists['batch_size_5']), label='Size 5')\n",
    "plt.scatter(6, np.mean(batch_lists['batch_size_6']), label='Size 6')\n",
    "plt.scatter(7, np.mean(batch_lists['batch_size_7']), label='Size 7')\n",
    "plt.scatter(8, np.mean(batch_lists['batch_size_8']), label='Size 8')\n",
    "plt.scatter(9, np.mean(batch_lists['batch_size_9']), label='Size 9')\n",
    "plt.scatter(10, np.mean(batch_lists['batch_size_10']), label='Size 10')\n",
    "plt.scatter(11, np.mean(batch_lists['batch_size_11']), label='Size 11')\n",
    "plt.scatter(12, np.mean(batch_lists['batch_size_12']), label='Size 12')\n",
    "plt.scatter(13, np.mean(batch_lists['batch_size_13']), label='Size 13')\n",
    "plt.scatter(14, np.mean(batch_lists['batch_size_14']), label='Size 14')\n",
    "plt.scatter(15, np.mean(batch_lists['batch_size_15']), label='Size 15')\n",
    "plt.scatter(16, np.mean(batch_lists['batch_size_16']), label='Size 16')\n",
    "plt.scatter(17, np.mean(batch_lists['batch_size_17']), label='Size 17')\n",
    "plt.scatter(18, np.mean(batch_lists['batch_size_18']), label='Size 18')\n",
    "plt.scatter(19, np.mean(batch_lists['batch_size_19']), label='Size 19')\n",
    "plt.scatter(20, np.mean(batch_lists['batch_size_20']), label='Size 20')\n",
    "\n",
    "plt.xlim(0,20)\n",
    "plt.xlabel('Batch Sizes')\n",
    "plt.ylabel('Total Craft Value')\n",
    "plt.grid()"
   ]
  },
  {
   "cell_type": "code",
   "execution_count": 426,
   "metadata": {},
   "outputs": [
    {
     "data": {
      "text/plain": [
       "19"
      ]
     },
     "execution_count": 426,
     "metadata": {},
     "output_type": "execute_result"
    }
   ],
   "source": [
    "len(my_lists['test_1'][0])"
   ]
  }
 ],
 "metadata": {
  "kernelspec": {
   "display_name": "Python 3",
   "language": "python",
   "name": "python3"
  },
  "language_info": {
   "codemirror_mode": {
    "name": "ipython",
    "version": 3
   },
   "file_extension": ".py",
   "mimetype": "text/x-python",
   "name": "python",
   "nbconvert_exporter": "python",
   "pygments_lexer": "ipython3",
   "version": "3.7.4"
  }
 },
 "nbformat": 4,
 "nbformat_minor": 2
}
